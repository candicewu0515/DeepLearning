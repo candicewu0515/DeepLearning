{
 "cells": [
  {
   "cell_type": "code",
   "execution_count": 52,
   "metadata": {},
   "outputs": [],
   "source": [
    "import numpy as np\n",
    "import pandas as pd\n",
    "import os\n",
    "import seqlogo\n",
    "import logomaker\n",
    "import matplotlib.pyplot as plt\n",
    "from matplotlib.backends.backend_pdf import PdfPages\n",
    "from PIL import Image\n",
    "import io\n",
    "\n"
   ]
  },
  {
   "cell_type": "code",
   "execution_count": 53,
   "metadata": {},
   "outputs": [],
   "source": [
    "\n",
    "def parse_meme_file(file_path):\n",
    "    motifs = []\n",
    "    current_motif = []\n",
    "    reading_motif = False\n",
    "    motif_name = \"\"\n",
    "    \n",
    "    with open(file_path, 'r') as file:\n",
    "        for line in file:\n",
    "            if line.startswith('MOTIF'):\n",
    "                if current_motif:  # 当遇到新的MOTIF时，保存之前的motif\n",
    "                    motifs.append((motif_name.strip(), pd.DataFrame(current_motif, columns=['A', 'C', 'G', 'T'])))\n",
    "                    current_motif = []\n",
    "                motif_name = line.split(None, 1)[1]  # 获取MOTIF后面的名称部分\n",
    "                reading_motif = False\n",
    "            elif line.startswith('letter-probability matrix'):\n",
    "                reading_motif = True\n",
    "            elif reading_motif and line.strip() and not line.startswith('---'):\n",
    "                values = [float(num) for num in line.split()]\n",
    "                current_motif.append(values)\n",
    "    \n",
    "    # 添加最后一个motif\n",
    "    if current_motif:\n",
    "        motifs.append((motif_name.strip(), pd.DataFrame(current_motif, columns=['A', 'C', 'G', 'T'])))\n",
    "    \n",
    "    return motifs\n"
   ]
  },
  {
   "cell_type": "code",
   "execution_count": 54,
   "metadata": {},
   "outputs": [],
   "source": [
    "\n",
    "file_path = 'meme_file_multitask_TRASH_X.txt'\n",
    "motifs = parse_meme_file(file_path)\n",
    "\n",
    "pdf_dir = 'tfmodisco_seqlogo_X'\n",
    "os.makedirs(pdf_dir, exist_ok=True)"
   ]
  },
  {
   "cell_type": "code",
   "execution_count": 55,
   "metadata": {},
   "outputs": [],
   "source": [
    "for motif_name, motif_df in motifs:\n",
    "    if not motif_df.empty:\n",
    "        ppm = seqlogo.Ppm(motif_df.T)  \n",
    "        png_path = os.path.join(pdf_dir, f'{motif_name}.png')\n",
    "        seqlogo.seqlogo(ppm, ic_scale=True, format='png', size='medium', filename=png_path)\n",
    "    else:\n",
    "        print(f\"{motif_name} is empty.\")"
   ]
  },
  {
   "cell_type": "code",
   "execution_count": null,
   "metadata": {},
   "outputs": [],
   "source": []
  }
 ],
 "metadata": {
  "kernelspec": {
   "display_name": "xia-ml",
   "language": "python",
   "name": "python3"
  },
  "language_info": {
   "codemirror_mode": {
    "name": "ipython",
    "version": 3
   },
   "file_extension": ".py",
   "mimetype": "text/x-python",
   "name": "python",
   "nbconvert_exporter": "python",
   "pygments_lexer": "ipython3",
   "version": "3.9.6"
  }
 },
 "nbformat": 4,
 "nbformat_minor": 2
}
